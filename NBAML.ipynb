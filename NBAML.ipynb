{
 "cells": [
  {
   "cell_type": "code",
   "execution_count": 1,
   "metadata": {},
   "outputs": [],
   "source": [
    "import pandas as pd\n",
    "import numpy as np\n",
    "from sklearn.model_selection import train_test_split\n",
    "from sklearn.ensemble import RandomForestClassifier\n",
    "from sklearn.neighbors import KNeighborsClassifier\n",
    "from sklearn.tree import DecisionTreeClassifier"
   ]
  },
  {
   "cell_type": "code",
   "execution_count": 2,
   "metadata": {},
   "outputs": [
    {
     "data": {
      "text/html": [
       "<div>\n",
       "<style scoped>\n",
       "    .dataframe tbody tr th:only-of-type {\n",
       "        vertical-align: middle;\n",
       "    }\n",
       "\n",
       "    .dataframe tbody tr th {\n",
       "        vertical-align: top;\n",
       "    }\n",
       "\n",
       "    .dataframe thead th {\n",
       "        text-align: right;\n",
       "    }\n",
       "</style>\n",
       "<table border=\"1\" class=\"dataframe\">\n",
       "  <thead>\n",
       "    <tr style=\"text-align: right;\">\n",
       "      <th></th>\n",
       "      <th>FG%</th>\n",
       "      <th>FT%</th>\n",
       "      <th>3P%</th>\n",
       "      <th>TRB</th>\n",
       "      <th>AST</th>\n",
       "      <th>BLK</th>\n",
       "    </tr>\n",
       "  </thead>\n",
       "  <tbody>\n",
       "    <tr>\n",
       "      <th>0</th>\n",
       "      <td>0.592</td>\n",
       "      <td>0.582</td>\n",
       "      <td>0.3330</td>\n",
       "      <td>9.3</td>\n",
       "      <td>2.3</td>\n",
       "      <td>1.1</td>\n",
       "    </tr>\n",
       "    <tr>\n",
       "      <th>1</th>\n",
       "      <td>0.557</td>\n",
       "      <td>0.691</td>\n",
       "      <td>0.1430</td>\n",
       "      <td>10.2</td>\n",
       "      <td>5.1</td>\n",
       "      <td>1.3</td>\n",
       "    </tr>\n",
       "    <tr>\n",
       "      <th>2</th>\n",
       "      <td>0.493</td>\n",
       "      <td>0.827</td>\n",
       "      <td>0.3890</td>\n",
       "      <td>7.4</td>\n",
       "      <td>2.4</td>\n",
       "      <td>1.6</td>\n",
       "    </tr>\n",
       "    <tr>\n",
       "      <th>3</th>\n",
       "      <td>0.500</td>\n",
       "      <td>0.769</td>\n",
       "      <td>0.3375</td>\n",
       "      <td>1.5</td>\n",
       "      <td>0.0</td>\n",
       "      <td>0.0</td>\n",
       "    </tr>\n",
       "    <tr>\n",
       "      <th>4</th>\n",
       "      <td>0.368</td>\n",
       "      <td>0.676</td>\n",
       "      <td>0.3460</td>\n",
       "      <td>1.8</td>\n",
       "      <td>1.9</td>\n",
       "      <td>0.2</td>\n",
       "    </tr>\n",
       "    <tr>\n",
       "      <th>...</th>\n",
       "      <td>...</td>\n",
       "      <td>...</td>\n",
       "      <td>...</td>\n",
       "      <td>...</td>\n",
       "      <td>...</td>\n",
       "      <td>...</td>\n",
       "    </tr>\n",
       "    <tr>\n",
       "      <th>495</th>\n",
       "      <td>0.624</td>\n",
       "      <td>0.465</td>\n",
       "      <td>0.3375</td>\n",
       "      <td>5.7</td>\n",
       "      <td>1.8</td>\n",
       "      <td>1.4</td>\n",
       "    </tr>\n",
       "    <tr>\n",
       "      <th>496</th>\n",
       "      <td>0.472</td>\n",
       "      <td>0.857</td>\n",
       "      <td>0.5000</td>\n",
       "      <td>2.0</td>\n",
       "      <td>0.4</td>\n",
       "      <td>0.4</td>\n",
       "    </tr>\n",
       "    <tr>\n",
       "      <th>497</th>\n",
       "      <td>0.600</td>\n",
       "      <td>1.000</td>\n",
       "      <td>0.5000</td>\n",
       "      <td>0.3</td>\n",
       "      <td>0.5</td>\n",
       "      <td>0.3</td>\n",
       "    </tr>\n",
       "    <tr>\n",
       "      <th>498</th>\n",
       "      <td>0.333</td>\n",
       "      <td>0.798</td>\n",
       "      <td>0.2790</td>\n",
       "      <td>2.1</td>\n",
       "      <td>2.4</td>\n",
       "      <td>0.2</td>\n",
       "    </tr>\n",
       "    <tr>\n",
       "      <th>499</th>\n",
       "      <td>0.442</td>\n",
       "      <td>0.723</td>\n",
       "      <td>0.3350</td>\n",
       "      <td>3.2</td>\n",
       "      <td>2.2</td>\n",
       "      <td>0.3</td>\n",
       "    </tr>\n",
       "  </tbody>\n",
       "</table>\n",
       "<p>500 rows × 6 columns</p>\n",
       "</div>"
      ],
      "text/plain": [
       "       FG%    FT%     3P%   TRB  AST  BLK\n",
       "0    0.592  0.582  0.3330   9.3  2.3  1.1\n",
       "1    0.557  0.691  0.1430  10.2  5.1  1.3\n",
       "2    0.493  0.827  0.3890   7.4  2.4  1.6\n",
       "3    0.500  0.769  0.3375   1.5  0.0  0.0\n",
       "4    0.368  0.676  0.3460   1.8  1.9  0.2\n",
       "..     ...    ...     ...   ...  ...  ...\n",
       "495  0.624  0.465  0.3375   5.7  1.8  1.4\n",
       "496  0.472  0.857  0.5000   2.0  0.4  0.4\n",
       "497  0.600  1.000  0.5000   0.3  0.5  0.3\n",
       "498  0.333  0.798  0.2790   2.1  2.4  0.2\n",
       "499  0.442  0.723  0.3350   3.2  2.2  0.3\n",
       "\n",
       "[500 rows x 6 columns]"
      ]
     },
     "execution_count": 2,
     "metadata": {},
     "output_type": "execute_result"
    }
   ],
   "source": [
    "df = pd.read_csv('seasons.csv')\n",
    "df = df[['Pos', 'FG%', 'FT%', '3P%','TRB', 'AST', 'BLK']]\n",
    "target = df['Pos']\n",
    "del df['Pos']\n",
    "df['3P%'].fillna(df['3P%'].median(), inplace=True)\n",
    "df['FT%'].fillna(df['FT%'].median(), inplace=True)\n",
    "df['FG%'].fillna(df['FG%'].median(), inplace=True)\n",
    "df"
   ]
  },
  {
   "cell_type": "code",
   "execution_count": 3,
   "metadata": {},
   "outputs": [
    {
     "name": "stdout",
     "output_type": "stream",
     "text": [
      "X_train shape: (375, 6)\n",
      "y_train shape: (375,)\n",
      "X_test shape: (125, 6)\n",
      "y_test shape: (125,)\n"
     ]
    },
    {
     "data": {
      "text/plain": [
       "DecisionTreeClassifier(random_state=5)"
      ]
     },
     "execution_count": 3,
     "metadata": {},
     "output_type": "execute_result"
    }
   ],
   "source": [
    "X_train, X_test, y_train, y_test = train_test_split(df, target, random_state=0)\n",
    "print(\"X_train shape: {}\".format(X_train.shape))\n",
    "print(\"y_train shape: {}\".format(y_train.shape))\n",
    "print(\"X_test shape: {}\".format(X_test.shape))\n",
    "print(\"y_test shape: {}\".format(y_test.shape))\n",
    "knn = KNeighborsClassifier(n_neighbors=5)\n",
    "rfc = RandomForestClassifier(max_depth=10, random_state=20)\n",
    "dtc = DecisionTreeClassifier(random_state=5)\n",
    "knn.fit(X_train, y_train)\n",
    "rfc.fit(X_train, y_train)\n",
    "dtc.fit(X_train, y_train)"
   ]
  },
  {
   "cell_type": "code",
   "execution_count": 5,
   "metadata": {},
   "outputs": [
    {
     "name": "stdout",
     "output_type": "stream",
     "text": [
      "X_new.shape: (1, 6)\n",
      "Prediction with KNeighbors Classifier: ['C']\n",
      "Prediction with Random Forest Classifier: ['PF']\n",
      "Prediction with Decision Tree Classifier: ['C']\n"
     ]
    }
   ],
   "source": [
    "X_new = np.array([[0.477, 0.782, 0.335, 6.5, 1.0, 3.4]])\n",
    "print(\"X_new.shape: {}\".format(X_new.shape))\n",
    "knn_prediction = knn.predict(X_new)\n",
    "rfc_prediction = dtc.predict(X_new)\n",
    "dtc_prediction = rfc.predict(X_new)\n",
    "print(\"Prediction with KNeighbors Classifier: {}\".format(knn_prediction))\n",
    "print(\"Prediction with Random Forest Classifier: {}\".format(rfc_prediction))\n",
    "print(\"Prediction with Decision Tree Classifier: {}\".format(dtc_prediction))"
   ]
  },
  {
   "cell_type": "code",
   "execution_count": 6,
   "metadata": {},
   "outputs": [
    {
     "name": "stdout",
     "output_type": "stream",
     "text": [
      "Test set predictions of KNeighbors Classifier:\n",
      " ['C' 'C' 'SG' 'SF' 'PG' 'PF' 'PG' 'PG' 'SG' 'PF' 'PG' 'PF' 'PG' 'PG' 'SF'\n",
      " 'SF' 'PF' 'SG' 'PF' 'SF' 'SG' 'PF' 'C' 'SF' 'PF' 'PF' 'PG' 'PG' 'SG' 'PG'\n",
      " 'PF' 'PF' 'PG' 'C' 'C' 'C' 'SG' 'PG' 'PF' 'PG' 'SG' 'PF' 'PG' 'SG' 'PF'\n",
      " 'C' 'PF' 'SF' 'SF' 'C' 'PG' 'PF' 'PG' 'C' 'C' 'C' 'C' 'C' 'PF' 'C' 'PF'\n",
      " 'C' 'SF' 'PG' 'SF' 'SG' 'SG' 'PF' 'PF' 'SG' 'C' 'C' 'PF' 'PF' 'PG' 'PF'\n",
      " 'SG' 'C' 'PF' 'PF' 'PG' 'SF' 'SF' 'C' 'SF' 'SF' 'SF' 'SG' 'SF' 'C' 'PF'\n",
      " 'PG' 'C' 'SG' 'SG' 'C' 'C' 'SG' 'SG' 'PF' 'C' 'PF' 'SG' 'PF' 'C' 'PG'\n",
      " 'SF' 'SF' 'SG' 'PF' 'C' 'PG' 'C' 'PF' 'PG' 'SG' 'PG' 'SG' 'PG' 'PF' 'SG'\n",
      " 'PF' 'SG' 'PF' 'SG']\n",
      "Test set score (np.mean): 0.50\n",
      "Test set predictions of Random Forest Classifier:\n",
      " ['C' 'C' 'SG' 'SG' 'SG' 'PF' 'PG' 'SG' 'SG' 'SF' 'SG' 'PF' 'SG' 'PG' 'SF'\n",
      " 'C' 'SG' 'SF' 'PF' 'PF' 'PF' 'SF' 'SF' 'PF' 'C' 'PF' 'PG' 'SG' 'SF' 'PG'\n",
      " 'SG' 'C' 'PG' 'C' 'SF' 'C' 'SG' 'PG' 'PF' 'SG' 'SG' 'C' 'PG' 'SG' 'C' 'C'\n",
      " 'SG' 'SF' 'SF' 'C' 'PG' 'C' 'PG' 'C' 'SG' 'C' 'C' 'PF' 'SF' 'C' 'PF' 'PF'\n",
      " 'SF' 'PG' 'SF' 'SG' 'SG' 'C' 'SF' 'SG' 'PF' 'SG' 'SG' 'PF' 'PG' 'SF' 'SG'\n",
      " 'C' 'SG' 'C' 'PG' 'PF' 'PF' 'C' 'SG' 'C' 'SG' 'SG' 'SF' 'C' 'SG' 'PG'\n",
      " 'PF' 'SG' 'SG' 'C' 'C' 'PF' 'SG' 'PF' 'PF' 'C' 'PG' 'SF' 'C' 'SG' 'SG'\n",
      " 'SF' 'SG' 'PF' 'C' 'PG' 'C' 'PF' 'PG' 'PF' 'PG' 'SG' 'PG' 'SG' 'SG' 'SF'\n",
      " 'SG' 'SF' 'SG']\n",
      "Test set score (np.mean): 0.55\n",
      "Test set predictions of Decision Tree Classifier:\n",
      " ['C' 'SF' 'SG' 'SG' 'PG' 'PF' 'PG' 'PG' 'SF' 'SG' 'SG' 'PF' 'SG' 'PG' 'SF'\n",
      " 'C' 'SF' 'SF' 'PF' 'PF-C' 'SG' 'SG' 'PF' 'SF' 'C' 'SF-PF' 'PG' 'SG' 'PF'\n",
      " 'PG' 'SG' 'PF' 'PG' 'C' 'SF' 'C' 'PG' 'PG' 'PF' 'PG' 'SG' 'C' 'PG' 'SF'\n",
      " 'SF' 'C' 'PF' 'SF' 'PG' 'SG' 'PG' 'C' 'PG' 'C' 'SF' 'SG' 'C' 'PF' 'PF'\n",
      " 'C' 'PF' 'PF' 'SF' 'PG' 'C' 'SG' 'SG' 'C' 'SF' 'PG' 'PF' 'C' 'PF' 'SG'\n",
      " 'PG' 'C' 'SG' 'C' 'SG' 'SG' 'PG' 'PF' 'C' 'C' 'SG' 'C' 'SG' 'SG' 'SF'\n",
      " 'SF' 'SG' 'PG' 'PF' 'SG' 'SG' 'C' 'C' 'PG' 'SG' 'PF' 'SG' 'C' 'PG' 'PF'\n",
      " 'C' 'PG' 'SG' 'SF' 'SG' 'SF' 'C' 'PG' 'C' 'SG' 'PG' 'C' 'PG' 'SG' 'PG'\n",
      " 'SG' 'SG' 'PF-SF' 'SG' 'C' 'SG']\n",
      "Test set score (np.mean): 0.40\n"
     ]
    }
   ],
   "source": [
    "y_pred = knn.predict(X_test)\n",
    "print(\"Test set predictions of KNeighbors Classifier:\\n {}\".format(y_pred))\n",
    "print(\"Test set score (np.mean): {:.2f}\".format(np.mean(y_pred == y_test)))\n",
    "y_pred = rfc.predict(X_test)\n",
    "print(\"Test set predictions of Random Forest Classifier:\\n {}\".format(y_pred))\n",
    "print(\"Test set score (np.mean): {:.2f}\".format(np.mean(y_pred == y_test)))\n",
    "y_pred = dtc.predict(X_test)\n",
    "print(\"Test set predictions of Decision Tree Classifier:\\n {}\".format(y_pred))\n",
    "print(\"Test set score (np.mean): {:.2f}\".format(np.mean(y_pred == y_test)))"
   ]
  },
  {
   "cell_type": "code",
   "execution_count": null,
   "metadata": {},
   "outputs": [],
   "source": []
  }
 ],
 "metadata": {
  "kernelspec": {
   "display_name": "Python 3",
   "language": "python",
   "name": "python3"
  },
  "language_info": {
   "codemirror_mode": {
    "name": "ipython",
    "version": 3
   },
   "file_extension": ".py",
   "mimetype": "text/x-python",
   "name": "python",
   "nbconvert_exporter": "python",
   "pygments_lexer": "ipython3",
   "version": "3.7.4"
  }
 },
 "nbformat": 4,
 "nbformat_minor": 2
}
